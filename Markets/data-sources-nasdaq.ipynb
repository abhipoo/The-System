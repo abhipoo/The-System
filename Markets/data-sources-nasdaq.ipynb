{
 "cells": [
  {
   "cell_type": "code",
   "execution_count": 1,
   "metadata": {},
   "outputs": [
    {
     "name": "stdout",
     "output_type": "stream",
     "text": [
      "Package            Version\n",
      "------------------ ---------\n",
      "asttokens          2.0.8\n",
      "backcall           0.2.0\n",
      "CacheControl       0.12.11\n",
      "cachy              0.3.0\n",
      "certifi            2022.6.15\n",
      "charset-normalizer 2.1.0\n",
      "cleo               0.8.1\n",
      "clikit             0.6.2\n",
      "colorama           0.4.5\n",
      "crashtest          0.3.1\n",
      "debugpy            1.6.3\n",
      "decorator          5.1.1\n",
      "distlib            0.3.5\n",
      "entrypoints        0.4\n",
      "executing          1.0.0\n",
      "filelock           3.7.1\n",
      "html5lib           1.1\n",
      "idna               3.3\n",
      "ipykernel          6.15.3\n",
      "ipython            8.5.0\n",
      "jedi               0.18.1\n",
      "jupyter_client     7.3.5\n",
      "jupyter-core       4.11.1\n",
      "keyring            23.7.0\n",
      "lockfile           0.12.2\n",
      "matplotlib-inline  0.1.6\n",
      "msgpack            1.0.4\n",
      "nest-asyncio       1.5.5\n",
      "packaging          20.9\n",
      "parso              0.8.3\n",
      "pastel             0.2.1\n",
      "pexpect            4.8.0\n",
      "pickleshare        0.7.5\n",
      "pip                22.2\n",
      "pkginfo            1.8.3\n",
      "platformdirs       2.5.2\n",
      "poetry             1.1.14\n",
      "poetry-core        1.0.8\n",
      "prompt-toolkit     3.0.31\n",
      "psutil             5.9.2\n",
      "ptyprocess         0.7.0\n",
      "pure-eval          0.2.2\n",
      "Pygments           2.13.0\n",
      "pylev              1.4.0\n",
      "pyparsing          3.0.9\n",
      "python-dateutil    2.8.2\n",
      "pywin32            304\n",
      "pywin32-ctypes     0.2.0\n",
      "pyzmq              24.0.0\n",
      "requests           2.28.1\n",
      "requests-toolbelt  0.9.1\n",
      "setuptools         58.1.0\n",
      "shellingham        1.4.0\n",
      "six                1.16.0\n",
      "stack-data         0.5.0\n",
      "tomlkit            0.11.1\n",
      "tornado            6.2\n",
      "traitlets          5.4.0\n",
      "urllib3            1.26.10\n",
      "virtualenv         20.15.1\n",
      "wcwidth            0.2.5\n",
      "webencodings       0.5.1\n",
      "\n",
      "[notice] A new release of pip available: 22.2 -> 22.2.2\n",
      "[notice] To update, run: C:\\Users\\Lenovo\\AppData\\Local\\Programs\\Python\\Python310\\python.exe -m pip install --upgrade pip\n"
     ]
    }
   ],
   "source": [
    "!pip list"
   ]
  },
  {
   "cell_type": "code",
   "execution_count": 3,
   "metadata": {},
   "outputs": [
    {
     "ename": "ModuleNotFoundError",
     "evalue": "No module named 'nasdaqdatalink'",
     "output_type": "error",
     "traceback": [
      "\u001b[1;31m---------------------------------------------------------------------------\u001b[0m",
      "\u001b[1;31mModuleNotFoundError\u001b[0m                       Traceback (most recent call last)",
      "Cell \u001b[1;32mIn [3], line 1\u001b[0m\n\u001b[1;32m----> 1\u001b[0m \u001b[38;5;28;01mimport\u001b[39;00m \u001b[38;5;21;01mnasdaqdatalink\u001b[39;00m\n",
      "\u001b[1;31mModuleNotFoundError\u001b[0m: No module named 'nasdaqdatalink'"
     ]
    }
   ],
   "source": [
    "import nasdaqdatalink"
   ]
  },
  {
   "cell_type": "code",
   "execution_count": null,
   "metadata": {},
   "outputs": [],
   "source": []
  },
  {
   "cell_type": "code",
   "execution_count": null,
   "metadata": {},
   "outputs": [],
   "source": []
  },
  {
   "cell_type": "code",
   "execution_count": null,
   "metadata": {},
   "outputs": [],
   "source": []
  },
  {
   "cell_type": "code",
   "execution_count": null,
   "metadata": {},
   "outputs": [],
   "source": []
  },
  {
   "cell_type": "code",
   "execution_count": null,
   "metadata": {},
   "outputs": [],
   "source": []
  },
  {
   "cell_type": "code",
   "execution_count": null,
   "metadata": {},
   "outputs": [],
   "source": []
  }
 ],
 "metadata": {
  "kernelspec": {
   "display_name": "markets-1",
   "language": "python",
   "name": "markets-1"
  },
  "language_info": {
   "codemirror_mode": {
    "name": "ipython",
    "version": 3
   },
   "file_extension": ".py",
   "mimetype": "text/x-python",
   "name": "python",
   "nbconvert_exporter": "python",
   "pygments_lexer": "ipython3",
   "version": "3.9.12"
  },
  "orig_nbformat": 4,
  "vscode": {
   "interpreter": {
    "hash": "c3ef2950bab682039a2664a92c68d76c9e1082b3546275fa01132f9fcb2a7647"
   }
  }
 },
 "nbformat": 4,
 "nbformat_minor": 2
}
